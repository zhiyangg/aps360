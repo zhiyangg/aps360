{
  "cells": [
    {
      "cell_type": "markdown",
      "metadata": {
        "id": "view-in-github",
        "colab_type": "text"
      },
      "source": [
        "<a href=\"https://colab.research.google.com/github/zhiyangg/aps360/blob/main/Baseline.ipynb\" target=\"_parent\"><img src=\"https://colab.research.google.com/assets/colab-badge.svg\" alt=\"Open In Colab\"/></a>"
      ]
    },
    {
      "cell_type": "markdown",
      "source": [
        "### Old Baseline Model: ResNet18"
      ],
      "metadata": {
        "id": "pe8upv13A9pr"
      }
    },
    {
      "cell_type": "code",
      "source": [
        "import torch\n",
        "import torch.nn as nn\n",
        "import torch.optim as optim\n",
        "import torchvision.models as models\n",
        "from torch.utils.data import DataLoader\n",
        "from torchvision.datasets import ImageFolder\n",
        "import time\n",
        "import matplotlib.pyplot as plt"
      ],
      "metadata": {
        "id": "911sqpkgBKcy"
      },
      "execution_count": null,
      "outputs": []
    },
    {
      "cell_type": "code",
      "source": [
        "def get_accuracy(model, data):\n",
        "    correct = 0\n",
        "    total = 0\n",
        "    model.eval()\n",
        "\n",
        "    for imgs, labels in DataLoader(data, batch_size=64):\n",
        "        output = model(imgs)\n",
        "        pred = output.max(1, keepdim=True)[1] # get the index of the max logit\n",
        "        correct += pred.eq(labels.view_as(pred)).sum().item()\n",
        "        total += imgs.shape[0]\n",
        "\n",
        "    return correct / total"
      ],
      "metadata": {
        "id": "qDzly8JxDDgi"
      },
      "execution_count": null,
      "outputs": []
    },
    {
      "cell_type": "code",
      "source": [
        "# Code from tutorial 3\n",
        "def train(model, train_data, valid_data, batch_size=64, num_epochs=1):\n",
        "    train_loader = DataLoader(train_data, batch_size=batch_size, shuffle=True) # shuffle after every epoch\n",
        "\n",
        "    criterion = nn.CrossEntropyLoss()\n",
        "    optimizer = optim.Adam(model.parameters(), lr=0.001)\n",
        "\n",
        "    iters, losses, train_acc, val_acc = [], [], [], []\n",
        "\n",
        "    # training\n",
        "    n = 0 # the number of iterations\n",
        "    start_time=time.time()\n",
        "    for epoch in range(num_epochs):\n",
        "        mini_b=0\n",
        "        mini_batch_correct = 0\n",
        "        Mini_batch_total = 0\n",
        "        for imgs, labels in iter(train_loader):\n",
        "\n",
        "            #############################################\n",
        "            #To Enable GPU Usage\n",
        "            if torch.cuda.is_available():\n",
        "                imgs = imgs.cuda()\n",
        "                labels = labels.cuda()\n",
        "            #############################################\n",
        "\n",
        "            out = model(imgs)             # forward pass\n",
        "            loss = criterion(out, labels) # compute the total loss\n",
        "            loss.backward()               # backward pass (compute parameter updates)\n",
        "            optimizer.step()              # make the updates for each parameter\n",
        "            optimizer.zero_grad()         # a clean up step for PyTorch\n",
        "\n",
        "            ##### Mini_batch Accuracy #####              We don't compute accuracy on the whole training set in every iteration!\n",
        "            pred = out.max(1, keepdim=True)[1]\n",
        "            mini_batch_correct = pred.eq(labels.view_as(pred)).sum().item()\n",
        "            Mini_batch_total = imgs.shape[0]\n",
        "            train_acc.append((mini_batch_correct / Mini_batch_total))\n",
        "            ###############################\n",
        "\n",
        "            # save the current training information\n",
        "            iters.append(n)\n",
        "            losses.append(float(loss)/batch_size)             # compute *average* loss\n",
        "            val_acc.append(get_accuracy(model, valid_data))  # compute validation accuracy\n",
        "            n += 1\n",
        "            mini_b += 1\n",
        "            # print(\"Iteration: \",n,'Progress: % 6.2f ' % ((epoch * len(train_loader) + mini_b) / (num_epochs * len(train_loader))*100),'%', \"Time Elapsed: % 6.2f s \" % (time.time()-start_time))\n",
        "\n",
        "        print (\"Epoch %d Finished. \" % epoch ,\"Time per Epoch: % 6.2f s \"% ((time.time()-start_time) / (epoch +1)))\n",
        "\n",
        "    end_time= time.time()\n",
        "\n",
        "    # plotting\n",
        "    plt.title(\"Training Curve\")\n",
        "    plt.plot(iters, losses, label=\"Train\")\n",
        "    plt.xlabel(\"Iterations\")\n",
        "    plt.ylabel(\"Loss\")\n",
        "    plt.show()\n",
        "\n",
        "    plt.title(\"Training Curve\")\n",
        "    plt.plot(iters, train_acc, label=\"Training\")\n",
        "    plt.plot(iters, val_acc, label=\"Validation\")\n",
        "    plt.xlabel(\"Iterations\")\n",
        "    plt.ylabel(\"Validation Accuracy\")\n",
        "    plt.legend(loc='best')\n",
        "    plt.show()\n",
        "\n",
        "    train_acc.append(get_accuracy(model, train_data))\n",
        "    print(\"Final Training Accuracy: {}\".format(train_acc[-1]))\n",
        "    print(\"Final Validation Accuracy: {}\".format(val_acc[-1]))\n",
        "    print (\"Total time:  % 6.2f s  Time per Epoch: % 6.2f s \" % ( (end_time-start_time), ((end_time-start_time) / num_epochs) ))\n"
      ],
      "metadata": {
        "id": "AlCK4EDjCmjG"
      },
      "execution_count": null,
      "outputs": []
    },
    {
      "cell_type": "code",
      "source": [
        "base_model = models.resnet18(weights=\"DEFAULT\")\n",
        "num_features = base_model.fc.in_features\n",
        "base_model.fc = nn.Linear(num_features, 2)\n",
        "\n",
        "if torch.cuda.is_available():\n",
        "    base_model.cuda()\n",
        "    print('CUDA is available!  Training on GPU ...')\n",
        "else:\n",
        "    print('CUDA is not available.  Training on CPU ...')\n",
        "\n",
        "train(base_model, [], [])"
      ],
      "metadata": {
        "id": "Ymg-2XVABTC2"
      },
      "execution_count": null,
      "outputs": []
    },
    {
      "cell_type": "markdown",
      "source": [
        "### Loading Data Remote"
      ],
      "metadata": {
        "id": "dg0lXyzpH3GQ"
      }
    },
    {
      "cell_type": "code",
      "source": [
        "! pip install wget"
      ],
      "metadata": {
        "id": "E8guRrxTvuRS"
      },
      "execution_count": null,
      "outputs": []
    },
    {
      "cell_type": "code",
      "source": [
        "!wget 'https://github.com/raymanhuang/aps360data/raw/main/Dataset.zip' -O Kaggle_Dataset.zip"
      ],
      "metadata": {
        "id": "g4_L6xPKv9Mm"
      },
      "execution_count": null,
      "outputs": []
    },
    {
      "cell_type": "code",
      "source": [
        "!unzip 'Kaggle_Dataset.zip' -d '/root/datasets'"
      ],
      "metadata": {
        "id": "R2ngpnBT3oZN"
      },
      "execution_count": null,
      "outputs": []
    },
    {
      "cell_type": "markdown",
      "source": [
        "### Loading Data Google Drive"
      ],
      "metadata": {
        "id": "9t_xAItawdWg"
      }
    },
    {
      "cell_type": "code",
      "source": [
        "from google.colab import drive\n",
        "drive.mount('/content/drive')"
      ],
      "metadata": {
        "id": "MjL-wiOhH7mN"
      },
      "execution_count": null,
      "outputs": []
    },
    {
      "cell_type": "markdown",
      "source": [
        "Upload Data.zip into Colab Notebooks folder in google drive"
      ],
      "metadata": {
        "id": "Y2j4QRrmIDi7"
      }
    },
    {
      "cell_type": "code",
      "source": [
        "!unzip '/content/drive/My Drive/Colab Notebooks/Data.zip' -d '/root/datasets'"
      ],
      "metadata": {
        "id": "S0QGf4YQH9Q6"
      },
      "execution_count": null,
      "outputs": []
    },
    {
      "cell_type": "markdown",
      "source": [
        "### Splitting Data"
      ],
      "metadata": {
        "id": "tx0pXxXlwn5Q"
      }
    },
    {
      "cell_type": "code",
      "source": [
        "import torchvision.transforms as transforms\n",
        "from torch.utils.data import DataLoader\n",
        "from torchvision.datasets import ImageFolder"
      ],
      "metadata": {
        "id": "TVolnhD71QVE"
      },
      "execution_count": 4,
      "outputs": []
    },
    {
      "cell_type": "code",
      "source": [
        "baseline_transform = transforms.Compose(\n",
        "        [transforms.Resize((224, 224)),\n",
        "         transforms.ToTensor(),\n",
        "         transforms.Normalize((0.5, 0.5, 0.5), (0.5, 0.5, 0.5))])\n",
        "\n",
        "train_data = ImageFolder('/root/datasets/Dataset/train', transform=baseline_transform)\n",
        "val_data = ImageFolder('/root/datasets/Dataset/val', transform=baseline_transform)"
      ],
      "metadata": {
        "id": "q0b8d1ahINH1"
      },
      "execution_count": 44,
      "outputs": []
    },
    {
      "cell_type": "markdown",
      "source": [
        "### New Baseline Code:\n"
      ],
      "metadata": {
        "id": "kxzNw67v5jhD"
      }
    },
    {
      "cell_type": "code",
      "source": [
        "def train_resnet(model, train_loader, valid_loader, lr=0.001, num_epochs=10):\n",
        "    criterion = nn.CrossEntropyLoss()\n",
        "    optimizer = optim.Adam(model.parameters(), lr=lr)\n",
        "\n",
        "    train_losses = []\n",
        "    valid_losses = []\n",
        "\n",
        "    for epoch in range(num_epochs):\n",
        "        model.train()  # Set model to training mode\n",
        "        total_train_loss = 0.0\n",
        "        for inputs, labels in train_loader:\n",
        "            optimizer.zero_grad()\n",
        "            outputs = model(inputs)\n",
        "            loss = criterion(outputs, labels)\n",
        "            loss.backward()\n",
        "            optimizer.step()\n",
        "            total_train_loss += loss.item()\n",
        "        train_losses.append(total_train_loss / len(train_loader))\n",
        "\n",
        "        model.eval()  # Set model to evaluation mode\n",
        "        total_valid_loss = 0.0\n",
        "        with torch.no_grad():\n",
        "            for inputs, labels in valid_loader:\n",
        "                outputs = model(inputs)\n",
        "                loss = criterion(outputs, labels)\n",
        "                total_valid_loss += loss.item()\n",
        "        valid_losses.append(total_valid_loss / len(valid_loader))\n",
        "\n",
        "        print(f\"Epoch [{epoch+1}/{num_epochs}], Train Loss: {train_losses[-1]:.4f}, Valid Loss: {valid_losses[-1]:.4f}\")\n",
        "\n",
        "    # Plotting the training and validation loss\n",
        "    plt.figure(figsize=(10, 5))\n",
        "    plt.plot(train_losses, label='Training Loss')\n",
        "    plt.plot(valid_losses, label='Validation Loss')\n",
        "    plt.title('Epoch vs. Loss')\n",
        "    plt.xlabel('Epoch')\n",
        "    plt.ylabel('Loss')\n",
        "    plt.legend()\n",
        "    plt.show()"
      ],
      "metadata": {
        "id": "9PfzTliUBN6g"
      },
      "execution_count": null,
      "outputs": []
    },
    {
      "cell_type": "code",
      "source": [
        "resnet_weights = models.ResNet18_Weights.DEFAULT\n",
        "base_model = models.resnet18(weights=resnet_weights)\n",
        "resnet_transforms = resnet_weights.transforms()\n",
        "\n",
        "base_model"
      ],
      "metadata": {
        "id": "Q5MA6x1Hoekz"
      },
      "execution_count": null,
      "outputs": []
    },
    {
      "cell_type": "code",
      "source": [
        "# Initialize model\n",
        "resnet_weights = models.ResNet18_Weights.DEFAULT\n",
        "base_model = models.resnet18(weights=resnet_weights)\n",
        "resnet_transforms = resnet_weights.transforms()\n",
        "\n",
        "base_model\n",
        "\n",
        "# Modify classification layer\n",
        "num_features = base_model.fc.in_features\n",
        "base_model.fc = nn.Linear(num_features, 3)  # 3 output classification\n",
        "\n",
        "# Freeze weights of convolution layers\n",
        "resnet_features = nn.Sequential(*(list(base_model.children())[0:8]))\n",
        "for param in resnet_features.parameters():\n",
        "    param.requires_grad = False\n",
        "\n",
        "# Load the dataset\n",
        "train_dataset = ImageFolder(root='path_to_train_dataset', transform=resnet_transforms)\n",
        "train_loader = DataLoader(train_dataset, batch_size=32, shuffle=True)\n",
        "\n",
        "valid_dataset = ImageFolder(root='path_to_valid_dataset', transform=resnet_transforms)\n",
        "valid_loader = DataLoader(valid_dataset, batch_size=32, shuffle=False)\n",
        "\n",
        "# Enable GPU usage\n",
        "if torch.cuda.is_available():\n",
        "    base_model.cuda()\n",
        "\n",
        "# Call training function\n"
      ],
      "metadata": {
        "id": "q_aseZYz5tpK"
      },
      "execution_count": null,
      "outputs": []
    },
    {
      "cell_type": "markdown",
      "source": [
        "# Simple CNN Baseline Model"
      ],
      "metadata": {
        "id": "fXe3Hm5BYssf"
      }
    },
    {
      "cell_type": "code",
      "source": [
        "import torch.nn as nn\n",
        "import torch.nn.functional as F\n",
        "import torch.optim as optim\n",
        "import matplotlib.pyplot as plt\n",
        "import time"
      ],
      "metadata": {
        "id": "18TCzHfO76cw"
      },
      "execution_count": 21,
      "outputs": []
    },
    {
      "cell_type": "code",
      "source": [
        "class Simple_CNN(nn.Module):\n",
        "    def __init__(self):\n",
        "        super(Simple_CNN, self).__init__()\n",
        "        self.conv1 = nn.Conv2d(3, 8, 3) #in_channels, out_chanels, kernel_size\n",
        "        self.conv2 = nn.Conv2d(8, 16, 3)\n",
        "        self.pool = nn.MaxPool2d(2, 2) #kernel_size, stride\n",
        "        self.fc1 = nn.Linear(16 * 54 * 54, 64)\n",
        "        self.fc2 = nn.Linear(64, 3)\n",
        "\n",
        "    def forward(self, x):\n",
        "        x = self.pool(F.relu(self.conv1(x)))\n",
        "        x = self.pool(F.relu(self.conv2(x)))\n",
        "        x = x.view(-1, 16 * 54 * 54)\n",
        "        x = F.relu(self.fc1(x))\n",
        "        x = self.fc2(x)\n",
        "        return x"
      ],
      "metadata": {
        "id": "yxs4yhuLYsRS"
      },
      "execution_count": 32,
      "outputs": []
    },
    {
      "cell_type": "code",
      "source": [
        "def get_accuracy(model, data_loader):\n",
        "    correct = 0\n",
        "    total = 0\n",
        "    for imgs, labels in data_loader:\n",
        "        imgs = imgs.cuda()\n",
        "        labels = labels.cuda()\n",
        "\n",
        "        output = model(imgs)\n",
        "\n",
        "        #select index with maximum prediction score\n",
        "        pred = output.max(1, keepdim=True)[1]\n",
        "        correct += pred.eq(labels.view_as(pred)).sum().item()\n",
        "        total += imgs.shape[0]\n",
        "    return correct / total"
      ],
      "metadata": {
        "id": "mildYraydthZ"
      },
      "execution_count": 10,
      "outputs": []
    },
    {
      "cell_type": "code",
      "source": [
        "def get_val_performance(model, data_loader):\n",
        "    correct = 0\n",
        "    total = 0\n",
        "    avg_loss = 0.0\n",
        "    it = 0\n",
        "    criterion = nn.CrossEntropyLoss()\n",
        "\n",
        "    for imgs, labels in data_loader:\n",
        "        imgs = imgs.cuda()\n",
        "        labels = labels.cuda()\n",
        "\n",
        "        output = model(imgs)\n",
        "        loss = criterion(output, labels)\n",
        "        avg_loss += loss.item()\n",
        "        it += 1\n",
        "\n",
        "        #select index with maximum prediction score\n",
        "        pred = output.max(1, keepdim=True)[1]\n",
        "        correct += pred.eq(labels.view_as(pred)).sum().item()\n",
        "        total += imgs.shape[0]\n",
        "\n",
        "    accuracy = correct / total\n",
        "    loss = float(avg_loss) / it\n",
        "\n",
        "    return accuracy, loss"
      ],
      "metadata": {
        "id": "zSwktF_mVXuk"
      },
      "execution_count": 57,
      "outputs": []
    },
    {
      "cell_type": "code",
      "source": [
        "def train_net(model, batch_size, learning_rate, num_epochs):\n",
        "    train_loader = DataLoader(train_data, batch_size=batch_size, shuffle=True)\n",
        "    val_loader = DataLoader(val_data, batch_size=batch_size, shuffle=True)\n",
        "\n",
        "    criterion = nn.CrossEntropyLoss()\n",
        "    optimizer = optim.Adam(model.parameters(), lr=learning_rate)\n",
        "\n",
        "    iters, train_loss, val_loss , train_acc, val_acc = [], [], [], [], []\n",
        "\n",
        "    # training\n",
        "    n = 0 # the number of iterations\n",
        "    start_time=time.time()\n",
        "    for epoch in range(num_epochs):\n",
        "        mini_b=0\n",
        "        mini_batch_correct = 0\n",
        "        Mini_batch_total = 0\n",
        "        avg_loss = 0.0\n",
        "        it = 0\n",
        "        for imgs, labels in train_loader:\n",
        "            imgs = imgs.cuda()\n",
        "            labels = labels.cuda()\n",
        "\n",
        "            out = model(imgs)             # forward pass\n",
        "            loss = criterion(out, labels) # compute the total loss\n",
        "            loss.backward()               # backward pass (compute parameter updates)\n",
        "            optimizer.step()              # make the updates for each parameter\n",
        "            optimizer.zero_grad()         # a clean up step for PyTorch\n",
        "\n",
        "            ##### Mini_batch Accuracy ##### We don't compute accuracy on the whole training set in every iteration!\n",
        "            pred = out.max(1, keepdim=True)[1]\n",
        "            mini_batch_correct = pred.eq(labels.view_as(pred)).sum().item()\n",
        "            Mini_batch_total = imgs.shape[0]\n",
        "            train_acc.append((mini_batch_correct / Mini_batch_total))\n",
        "            ###########################\n",
        "\n",
        "            # save the current training information\n",
        "            iters.append(n)\n",
        "            train_loss.append(float(loss))\n",
        "            va, vl = get_val_performance(model, val_loader)\n",
        "            val_acc.append(va)\n",
        "            val_loss.append(vl)\n",
        "            n += 1\n",
        "            mini_b += 1\n",
        "            print(\"Iteration: \",n,'Progress: % 6.2f ' % ((epoch * len(train_loader) + mini_b) / (num_epochs * len(train_loader))*100),'%', \"Time Elapsed: % 6.2f s \" % (time.time()-start_time))\n",
        "\n",
        "        print (\"Epoch %d Finished. \" % epoch ,\"Time per Epoch: % 6.2f s \"% ((time.time()-start_time) / (epoch +1)))\n",
        "\n",
        "    end_time= time.time()\n",
        "\n",
        "    # plotting\n",
        "    plt.title(\"Training Curve\")\n",
        "    plt.plot(iters, train_loss, label=\"Train\")\n",
        "    plt.plot(iters, val_loss, label=\"Validation\")\n",
        "    plt.xlabel(\"Iterations\")\n",
        "    plt.ylabel(\"Loss\")\n",
        "    plt.legend(loc='best')\n",
        "    plt.show()\n",
        "\n",
        "    plt.title(\"Training Curve\")\n",
        "    plt.plot(iters, train_acc, label=\"Train\")\n",
        "    plt.plot(iters, val_acc, label=\"Validation\")\n",
        "    plt.xlabel(\"Iterations\")\n",
        "    plt.ylabel(\"Accuracy\")\n",
        "    plt.legend(loc='best')\n",
        "    plt.show()\n",
        "\n",
        "    train_acc.append(get_accuracy(model, train_loader))\n",
        "    print(\"Final Training Accuracy: {}\".format(train_acc[-1]))\n",
        "    print(\"Final Validation Accuracy: {}\".format(val_acc[-1]))\n",
        "    print (\"Total time:  % 6.2f s  Time per Epoch: % 6.2f s \" % ( (end_time-start_time), ((end_time-start_time) / num_epochs) ))"
      ],
      "metadata": {
        "id": "LO49FCW9edKv"
      },
      "execution_count": 62,
      "outputs": []
    },
    {
      "cell_type": "code",
      "source": [
        "base_model = Simple_CNN()\n",
        "base_model.cuda()\n",
        "train_net(base_model, 256, 0.001, 4)"
      ],
      "metadata": {
        "colab": {
          "base_uri": "https://localhost:8080/",
          "height": 1000
        },
        "id": "CdP_t_al-f5A",
        "outputId": "35623d3d-6396-4ac1-e771-66bff3a7e484"
      },
      "execution_count": 63,
      "outputs": [
        {
          "output_type": "stream",
          "name": "stdout",
          "text": [
            "Iteration:  1 Progress:   1.00  % Time Elapsed:   4.48 s \n",
            "Iteration:  2 Progress:   2.00  % Time Elapsed:   8.97 s \n",
            "Iteration:  3 Progress:   3.00  % Time Elapsed:  14.03 s \n",
            "Iteration:  4 Progress:   4.00  % Time Elapsed:  18.54 s \n",
            "Iteration:  5 Progress:   5.00  % Time Elapsed:  23.56 s \n",
            "Iteration:  6 Progress:   6.00  % Time Elapsed:  28.23 s \n",
            "Iteration:  7 Progress:   7.00  % Time Elapsed:  32.66 s \n",
            "Iteration:  8 Progress:   8.00  % Time Elapsed:  37.79 s \n",
            "Iteration:  9 Progress:   9.00  % Time Elapsed:  42.29 s \n",
            "Iteration:  10 Progress:  10.00  % Time Elapsed:  46.91 s \n",
            "Iteration:  11 Progress:  11.00  % Time Elapsed:  51.77 s \n",
            "Iteration:  12 Progress:  12.00  % Time Elapsed:  56.30 s \n",
            "Iteration:  13 Progress:  13.00  % Time Elapsed:  61.41 s \n",
            "Iteration:  14 Progress:  14.00  % Time Elapsed:  65.91 s \n",
            "Iteration:  15 Progress:  15.00  % Time Elapsed:  70.41 s \n",
            "Iteration:  16 Progress:  16.00  % Time Elapsed:  75.66 s \n",
            "Iteration:  17 Progress:  17.00  % Time Elapsed:  80.16 s \n",
            "Iteration:  18 Progress:  18.00  % Time Elapsed:  85.15 s \n",
            "Iteration:  19 Progress:  19.00  % Time Elapsed:  89.82 s \n",
            "Iteration:  20 Progress:  20.00  % Time Elapsed:  94.28 s \n",
            "Iteration:  21 Progress:  21.00  % Time Elapsed:  99.37 s \n",
            "Iteration:  22 Progress:  22.00  % Time Elapsed:  103.86 s \n",
            "Iteration:  23 Progress:  23.00  % Time Elapsed:  108.54 s \n",
            "Iteration:  24 Progress:  24.00  % Time Elapsed:  113.52 s \n",
            "Iteration:  25 Progress:  25.00  % Time Elapsed:  117.56 s \n",
            "Epoch 0 Finished.  Time per Epoch:  117.56 s \n",
            "Iteration:  26 Progress:  26.00  % Time Elapsed:  122.59 s \n",
            "Iteration:  27 Progress:  27.00  % Time Elapsed:  127.01 s \n",
            "Iteration:  28 Progress:  28.00  % Time Elapsed:  131.41 s \n",
            "Iteration:  29 Progress:  29.00  % Time Elapsed:  136.55 s \n",
            "Iteration:  30 Progress:  30.00  % Time Elapsed:  140.99 s \n",
            "Iteration:  31 Progress:  31.00  % Time Elapsed:  145.77 s \n",
            "Iteration:  32 Progress:  32.00  % Time Elapsed:  150.59 s \n",
            "Iteration:  33 Progress:  33.00  % Time Elapsed:  155.05 s \n",
            "Iteration:  34 Progress:  34.00  % Time Elapsed:  160.18 s \n",
            "Iteration:  35 Progress:  35.00  % Time Elapsed:  164.68 s \n",
            "Iteration:  36 Progress:  36.00  % Time Elapsed:  169.31 s \n",
            "Iteration:  37 Progress:  37.00  % Time Elapsed:  174.44 s \n",
            "Iteration:  38 Progress:  38.00  % Time Elapsed:  179.00 s \n",
            "Iteration:  39 Progress:  39.00  % Time Elapsed:  184.11 s \n",
            "Iteration:  40 Progress:  40.00  % Time Elapsed:  188.64 s \n",
            "Iteration:  41 Progress:  41.00  % Time Elapsed:  193.10 s \n",
            "Iteration:  42 Progress:  42.00  % Time Elapsed:  198.25 s \n",
            "Iteration:  43 Progress:  43.00  % Time Elapsed:  202.76 s \n",
            "Iteration:  44 Progress:  44.00  % Time Elapsed:  207.59 s \n",
            "Iteration:  45 Progress:  45.00  % Time Elapsed:  212.36 s \n",
            "Iteration:  46 Progress:  46.00  % Time Elapsed:  216.84 s \n",
            "Iteration:  47 Progress:  47.00  % Time Elapsed:  221.94 s \n",
            "Iteration:  48 Progress:  48.00  % Time Elapsed:  226.43 s \n",
            "Iteration:  49 Progress:  49.00  % Time Elapsed:  230.94 s \n",
            "Iteration:  50 Progress:  50.00  % Time Elapsed:  235.58 s \n",
            "Epoch 1 Finished.  Time per Epoch:  117.79 s \n",
            "Iteration:  51 Progress:  51.00  % Time Elapsed:  240.11 s \n",
            "Iteration:  52 Progress:  52.00  % Time Elapsed:  245.32 s \n",
            "Iteration:  53 Progress:  53.00  % Time Elapsed:  249.92 s \n",
            "Iteration:  54 Progress:  54.00  % Time Elapsed:  254.46 s \n",
            "Iteration:  55 Progress:  55.00  % Time Elapsed:  259.60 s \n",
            "Iteration:  56 Progress:  56.00  % Time Elapsed:  264.12 s \n",
            "Iteration:  57 Progress:  57.00  % Time Elapsed:  268.98 s \n",
            "Iteration:  58 Progress:  58.00  % Time Elapsed:  273.65 s \n",
            "Iteration:  59 Progress:  59.00  % Time Elapsed:  278.12 s \n",
            "Iteration:  60 Progress:  60.00  % Time Elapsed:  283.21 s \n",
            "Iteration:  61 Progress:  61.00  % Time Elapsed:  287.76 s \n",
            "Iteration:  62 Progress:  62.00  % Time Elapsed:  292.23 s \n",
            "Iteration:  63 Progress:  63.00  % Time Elapsed:  297.35 s \n",
            "Iteration:  64 Progress:  64.00  % Time Elapsed:  301.90 s \n",
            "Iteration:  65 Progress:  65.00  % Time Elapsed:  307.06 s \n",
            "Iteration:  66 Progress:  66.00  % Time Elapsed:  311.54 s \n",
            "Iteration:  67 Progress:  67.00  % Time Elapsed:  316.08 s \n",
            "Iteration:  68 Progress:  68.00  % Time Elapsed:  321.23 s \n",
            "Iteration:  69 Progress:  69.00  % Time Elapsed:  325.69 s \n",
            "Iteration:  70 Progress:  70.00  % Time Elapsed:  330.62 s \n",
            "Iteration:  71 Progress:  71.00  % Time Elapsed:  335.35 s \n",
            "Iteration:  72 Progress:  72.00  % Time Elapsed:  339.86 s \n",
            "Iteration:  73 Progress:  73.00  % Time Elapsed:  344.95 s \n",
            "Iteration:  74 Progress:  74.00  % Time Elapsed:  349.42 s \n",
            "Iteration:  75 Progress:  75.00  % Time Elapsed:  353.41 s \n",
            "Epoch 2 Finished.  Time per Epoch:  117.80 s \n",
            "Iteration:  76 Progress:  76.00  % Time Elapsed:  358.55 s \n",
            "Iteration:  77 Progress:  77.00  % Time Elapsed:  363.06 s \n",
            "Iteration:  78 Progress:  78.00  % Time Elapsed:  368.06 s \n",
            "Iteration:  79 Progress:  79.00  % Time Elapsed:  372.60 s \n",
            "Iteration:  80 Progress:  80.00  % Time Elapsed:  377.13 s \n",
            "Iteration:  81 Progress:  81.00  % Time Elapsed:  382.17 s \n",
            "Iteration:  82 Progress:  82.00  % Time Elapsed:  386.63 s \n",
            "Iteration:  83 Progress:  83.00  % Time Elapsed:  391.31 s \n",
            "Iteration:  84 Progress:  84.00  % Time Elapsed:  396.08 s \n",
            "Iteration:  85 Progress:  85.00  % Time Elapsed:  400.51 s \n",
            "Iteration:  86 Progress:  86.00  % Time Elapsed:  405.65 s \n",
            "Iteration:  87 Progress:  87.00  % Time Elapsed:  410.13 s \n",
            "Iteration:  88 Progress:  88.00  % Time Elapsed:  414.77 s \n",
            "Iteration:  89 Progress:  89.00  % Time Elapsed:  419.90 s \n",
            "Iteration:  90 Progress:  90.00  % Time Elapsed:  424.32 s \n",
            "Iteration:  91 Progress:  91.00  % Time Elapsed:  429.26 s \n",
            "Iteration:  92 Progress:  92.00  % Time Elapsed:  433.81 s \n",
            "Iteration:  93 Progress:  93.00  % Time Elapsed:  438.31 s \n",
            "Iteration:  94 Progress:  94.00  % Time Elapsed:  443.36 s \n",
            "Iteration:  95 Progress:  95.00  % Time Elapsed:  447.85 s \n",
            "Iteration:  96 Progress:  96.00  % Time Elapsed:  452.53 s \n",
            "Iteration:  97 Progress:  97.00  % Time Elapsed:  457.44 s \n",
            "Iteration:  98 Progress:  98.00  % Time Elapsed:  461.96 s \n",
            "Iteration:  99 Progress:  99.00  % Time Elapsed:  467.03 s \n",
            "Iteration:  100 Progress:  100.00  % Time Elapsed:  470.95 s \n",
            "Epoch 3 Finished.  Time per Epoch:  117.74 s \n"
          ]
        },
        {
          "output_type": "display_data",
          "data": {
            "text/plain": [
              "<Figure size 640x480 with 1 Axes>"
            ],
            "image/png": "[encoded data removed]"
          },
          "metadata": {}
        },
        {
          "output_type": "display_data",
          "data": {
            "text/plain": [
              "<Figure size 640x480 with 1 Axes>"
            ],
            "image/png": "[encoded data removed]"
          },
          "metadata": {}
        },
        {
          "output_type": "stream",
          "name": "stdout",
          "text": [
            "Final Training Accuracy: 0.9555234425176622\n",
            "Final Validation Accuracy: 0.934640522875817\n",
            "Total time:   470.95 s  Time per Epoch:  117.74 s \n"
          ]
        }
      ]
    }
  ],
  "metadata": {
    "colab": {
      "provenance": [],
      "gpuType": "T4",
      "include_colab_link": true
    },
    "kernelspec": {
      "display_name": "Python 3",
      "name": "python3"
    },
    "language_info": {
      "name": "python",
      "version": "3.9.7"
    },
    "accelerator": "GPU"
  },
  "nbformat": 4,
  "nbformat_minor": 0
}